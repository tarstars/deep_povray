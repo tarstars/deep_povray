{
 "cells": [
  {
   "cell_type": "code",
   "execution_count": null,
   "metadata": {},
   "outputs": [],
   "source": [
    "from concurrent.futures import ThreadPoolExecutor\n",
    "from IPython.display import display, clear_output\n",
    "import math\n",
    "import numpy as np\n",
    "from PIL import Image\n",
    "from multiprocessing import Pool\n",
    "import vapory"
   ]
  },
  {
   "cell_type": "code",
   "execution_count": null,
   "metadata": {},
   "outputs": [],
   "source": [
    "def create_scene(moment, is_box):\n",
    "    angle = 2 * math.pi * moment / 360\n",
    "    r_camera = 10\n",
    "    camera = vapory.Camera('location', [r_camera * math.cos(angle), 1.5, r_camera * math.sin(angle)], \n",
    "                           'look_at', [0.0, 0.0, 0.0], \n",
    "                           'angle', 30)\n",
    "    light1 = vapory.LightSource([2, 4, -3], 'color', [1, 1, 1], 'shadowless')\n",
    "    light2 = vapory.LightSource([2, 4, 3], 'color', [1, 1, 1], 'shadowless')\n",
    "    plane = vapory.Plane([0, 1, 0], -2, vapory.Pigment('color', [1, 1, 1]))\n",
    "    box = vapory.Box([-1, -1, -1], [1, 1, 1], \n",
    "                     vapory.Pigment('Col_Glass_Clear'),\n",
    "                     vapory.Finish('F_Glass9'),\n",
    "                     vapory.Interior('I_Glass1'))\n",
    "    sphere = vapory.Sphere( [0, 0, 0], 1 + (math.sqrt(2) - 1) / 2, vapory.Texture(vapory.Pigment('color', [0.7, 0.7, 0.7])))\n",
    "    some_shape = box if is_box else sphere\n",
    "    return vapory.Scene(camera, objects=[light1, light2, plane, some_shape], included=['glass.inc'])"
   ]
  },
  {
   "cell_type": "code",
   "execution_count": null,
   "metadata": {},
   "outputs": [],
   "source": [
    "class CreateRecordFiller:\n",
    "    def __init__(self, n):\n",
    "        self.n = n\n",
    "        self.ds = np.zeros((2 * n, 100, 100, 3), dtype=np.uint8)    \n",
    "    def __call__(self, ind):\n",
    "        scene = create_scene(ind / 2, is_box=ind%2 == 0)\n",
    "        pic = scene.render(width=100, height=100)\n",
    "        self.ds[ind] = pic"
   ]
  },
  {
   "cell_type": "code",
   "execution_count": null,
   "metadata": {},
   "outputs": [],
   "source": [
    "fill_record = CreateRecordFiller(360)"
   ]
  },
  {
   "cell_type": "code",
   "execution_count": null,
   "metadata": {},
   "outputs": [],
   "source": [
    "with ThreadPoolExecutor(40) as p:\n",
    "    p.map(fill_record, range(720))"
   ]
  },
  {
   "cell_type": "code",
   "execution_count": null,
   "metadata": {},
   "outputs": [],
   "source": [
    "Image.fromarray(fill_record.ds[100])"
   ]
  },
  {
   "cell_type": "code",
   "execution_count": null,
   "metadata": {},
   "outputs": [],
   "source": [
    "np.savez('box_sphere', ds=ds)"
   ]
  },
  {
   "cell_type": "code",
   "execution_count": null,
   "metadata": {},
   "outputs": [],
   "source": []
  }
 ],
 "metadata": {
  "kernelspec": {
   "display_name": "Python 3",
   "language": "python",
   "name": "python3"
  },
  "language_info": {
   "codemirror_mode": {
    "name": "ipython",
    "version": 3
   },
   "file_extension": ".py",
   "mimetype": "text/x-python",
   "name": "python",
   "nbconvert_exporter": "python",
   "pygments_lexer": "ipython3",
   "version": "3.5.2"
  }
 },
 "nbformat": 4,
 "nbformat_minor": 2
}
