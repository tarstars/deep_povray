{
 "cells": [
  {
   "cell_type": "code",
   "execution_count": 1,
   "metadata": {},
   "outputs": [],
   "source": [
    "import os\n",
    "os.environ['OMP_NUM_THREADS'] = '8'"
   ]
  },
  {
   "cell_type": "code",
   "execution_count": 2,
   "metadata": {},
   "outputs": [],
   "source": [
    "from IPython.display import clear_output, display\n",
    "from PIL import Image\n",
    "from sklearn import metrics\n",
    "\n",
    "import numpy as np\n",
    "\n",
    "import time\n",
    "import torch\n",
    "import torchvision as tv\n",
    "\n",
    "import gc"
   ]
  },
  {
   "cell_type": "code",
   "execution_count": 3,
   "metadata": {},
   "outputs": [
    {
     "name": "stdout",
     "output_type": "stream",
     "text": [
      "cpu\n"
     ]
    }
   ],
   "source": [
    "if torch.cuda.is_available():\n",
    "    device = torch.device('cuda')\n",
    "else:\n",
    "    device = torch.device('cpu')\n",
    "    torch.set_num_threads(8)\n",
    "print(device)"
   ]
  },
  {
   "cell_type": "code",
   "execution_count": null,
   "metadata": {},
   "outputs": [],
   "source": [
    "arc = np.load('box_sphere_00.npz')"
   ]
  },
  {
   "cell_type": "code",
   "execution_count": null,
   "metadata": {},
   "outputs": [],
   "source": [
    "ds_raw = torch.from_numpy(arc['ds']).float()[:, :, :, :1].transpose(1, 3)\n",
    "del arc"
   ]
  },
  {
   "cell_type": "code",
   "execution_count": null,
   "metadata": {},
   "outputs": [],
   "source": [
    "ds_norm = ds_raw / 255.0 - 0.5"
   ]
  },
  {
   "cell_type": "code",
   "execution_count": null,
   "metadata": {},
   "outputs": [],
   "source": [
    "ind = np.arange(ds_norm.shape[0])\n",
    "np.random.shuffle(ind)"
   ]
  },
  {
   "cell_type": "code",
   "execution_count": null,
   "metadata": {},
   "outputs": [],
   "source": [
    "train_part = 0.8\n",
    "ind_thr = int(ind.shape[0]*train_part)\n",
    "ind_train, ind_test = ind[:ind_thr], ind[ind_thr:]"
   ]
  },
  {
   "cell_type": "code",
   "execution_count": null,
   "metadata": {},
   "outputs": [],
   "source": [
    "label = torch.from_numpy(np.arange(ds_norm.shape[0]) % 2)"
   ]
  },
  {
   "cell_type": "code",
   "execution_count": null,
   "metadata": {},
   "outputs": [],
   "source": [
    "pt_train_ds, pt_train_lbl = ds_norm[ind_train], label[ind_train]\n",
    "pt_test_ds, pt_test_lbl = ds_norm[ind_test], label[ind_test]"
   ]
  },
  {
   "cell_type": "code",
   "execution_count": null,
   "metadata": {},
   "outputs": [],
   "source": [
    "pt_train_ds, pt_train_lbl = pt_train_ds.to(device), pt_train_lbl.to(device)\n",
    "pt_test_ds, pt_test_lbl = pt_test_ds.to(device), pt_test_lbl.to(device)"
   ]
  },
  {
   "cell_type": "code",
   "execution_count": null,
   "metadata": {},
   "outputs": [],
   "source": [
    "class Descriminate(torch.nn.Module):\n",
    "    def __init__(self):\n",
    "        super(Descriminate, self).__init__()\n",
    "        self.conv1 = torch.nn.Conv2d(1, 9, 5)\n",
    "        self.mp1 = torch.nn.MaxPool2d(2)\n",
    "        self.conv2 = torch.nn.Conv2d(9, 18, 5)\n",
    "        self.mp2 = torch.nn.MaxPool2d(2)\n",
    "        self.conv3 = torch.nn.Conv2d(18, 36, 5)\n",
    "        self.mp3 = torch.nn.MaxPool2d(2)\n",
    "        self.lin1 = torch.nn.Linear(36 * 9 * 9, 100)\n",
    "        self.lin2 = torch.nn.Linear(100, 20)\n",
    "        self.lin3 = torch.nn.Linear(20, 2)\n",
    "\n",
    "    def forward(self, x):\n",
    "        x = torch.nn.functional.relu(self.conv1(x))\n",
    "        x = self.mp1(x)\n",
    "        x = torch.nn.functional.relu(self.conv2(x))\n",
    "        x = self.mp2(x)\n",
    "        x = torch.nn.functional.relu(self.conv3(x))\n",
    "        x = self.mp3(x)\n",
    "        x = x.view(-1, 36 * 9 * 9)\n",
    "        x = torch.nn.functional.relu(self.lin1(x))\n",
    "        x = torch.nn.functional.relu(self.lin2(x))\n",
    "        x = torch.nn.functional.relu(self.lin3(x))\n",
    "        return x"
   ]
  },
  {
   "cell_type": "code",
   "execution_count": null,
   "metadata": {},
   "outputs": [],
   "source": [
    "# m(pt_train_ds[:1]).shape"
   ]
  },
  {
   "cell_type": "code",
   "execution_count": null,
   "metadata": {},
   "outputs": [],
   "source": [
    "m = Descriminate().to(device)\n",
    "crit = torch.nn.CrossEntropyLoss()"
   ]
  },
  {
   "cell_type": "code",
   "execution_count": null,
   "metadata": {},
   "outputs": [],
   "source": [
    "optim = torch.optim.SGD(m.parameters(), lr=1e-5, momentum=0.5)"
   ]
  },
  {
   "cell_type": "code",
   "execution_count": null,
   "metadata": {},
   "outputs": [],
   "source": [
    "pt_train_ds.shape, pt_train_lbl.shape"
   ]
  },
  {
   "cell_type": "code",
   "execution_count": null,
   "metadata": {},
   "outputs": [],
   "source": [
    "def mpp(msg, a):\n",
    "    return msg + ' '.join('{:.04f}'.format(t) for t in a)"
   ]
  },
  {
   "cell_type": "code",
   "execution_count": null,
   "metadata": {},
   "outputs": [],
   "source": [
    "try:\n",
    "    meter = 1\n",
    "    while(True):\n",
    "        minibatch_percent = 0.1\n",
    "        random_sample_ind = torch.randperm(pt_train_ds.shape[0])[:int(pt_train_ds.shape[0]*minibatch_percent)]\n",
    "        sampled_ds = pt_train_ds[random_sample_ind]\n",
    "        sampled_lbl = pt_train_lbl[random_sample_ind]\n",
    "        for _ in range(meter):\n",
    "            optim.zero_grad()        \n",
    "            estim = m(sampled_ds)\n",
    "            loss = crit(estim, sampled_lbl)\n",
    "            loss.backward()\n",
    "            optim.step()\n",
    "\n",
    "        if meter < 100:\n",
    "            meter += 5\n",
    "\n",
    "        model_cube_train_score = m(pt_train_ds).cpu().detach().numpy()[:, 0]\n",
    "        model_cube_test_score = m(pt_test_ds).cpu().detach().numpy()[:, 0]\n",
    "        model_sphere_train_score = m(pt_train_ds).cpu().detach().numpy()[:, 1]\n",
    "        model_sphere_test_score = m(pt_test_ds).cpu().detach().numpy()[:, 1]\n",
    "        to_show = (float(loss), \n",
    "                   metrics.roc_auc_score(pt_train_lbl, model_cube_train_score),\n",
    "                   metrics.roc_auc_score(pt_test_lbl, model_cube_test_score),\n",
    "                   metrics.roc_auc_score(pt_train_lbl, model_sphere_train_score),\n",
    "                   metrics.roc_auc_score(pt_test_lbl, model_sphere_test_score),\n",
    "                   mpp('cube_train_scores   :', model_cube_train_score[:15]),\n",
    "                   mpp('sphere_train_scores :', model_sphere_train_score[:15]),\n",
    "                   mpp('labels              :', pt_train_lbl[:15]),\n",
    "                  )\n",
    "        # clear_output()\n",
    "        display(to_show)\n",
    "except KeyboardInterrupt as ki:\n",
    "    print(\"iterations stopped!\")"
   ]
  },
  {
   "cell_type": "code",
   "execution_count": null,
   "metadata": {},
   "outputs": [],
   "source": [
    "with torch.no_grad():\n",
    "    for t in range(20):\n",
    "        pic = (pt_test_ds[t].transpose(0, 2).cpu().numpy() + 0.5)*255\n",
    "        int_pic = pic.astype(np.uint8).repeat(3, axis=2)\n",
    "        display(Image.fromarray(int_pic), m(pt_test_ds[t:t+1]).cpu().detach().numpy(), '', '')  # "
   ]
  },
  {
   "cell_type": "code",
   "execution_count": null,
   "metadata": {},
   "outputs": [],
   "source": []
  }
 ],
 "metadata": {
  "kernelspec": {
   "display_name": "Python 3",
   "language": "python",
   "name": "python3"
  },
  "language_info": {
   "codemirror_mode": {
    "name": "ipython",
    "version": 3
   },
   "file_extension": ".py",
   "mimetype": "text/x-python",
   "name": "python",
   "nbconvert_exporter": "python",
   "pygments_lexer": "ipython3",
   "version": "3.5.2"
  }
 },
 "nbformat": 4,
 "nbformat_minor": 2
}
